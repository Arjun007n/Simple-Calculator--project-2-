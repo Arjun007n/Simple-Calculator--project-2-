{
 "cells": [
  {
   "cell_type": "code",
   "execution_count": null,
   "id": "016fb1f6-0d9f-4b76-bdf2-f9f189940a6e",
   "metadata": {},
   "outputs": [],
   "source": [
    "import tkinter as tk\n",
    "from tkinter import messagebox\n",
    "\n",
    "def evaluate_expression():\n",
    "    try:\n",
    "        result = eval(entry.get())\n",
    "        entry.delete(0, tk.END)\n",
    "        entry.insert(0, str(result))\n",
    "    except Exception as e:\n",
    "        messagebox.showerror(\"Error\", f\"Invalid Input: {e}\")\n",
    "\n",
    "def append_to_entry(value):\n",
    "    entry.insert(tk.END, value)\n",
    "\n",
    "def clear_entry():\n",
    "    entry.delete(0, tk.END)\n",
    "\n",
    "# GUI setup\n",
    "root = tk.Tk()\n",
    "root.title(\"Simple Calculator\")\n",
    "\n",
    "entry = tk.Entry(root, width=30, borderwidth=5)\n",
    "entry.grid(row=0, column=0, columnspan=4)\n",
    "\n",
    "buttons = [\n",
    "    (\"7\", 1, 0), (\"8\", 1, 1), (\"9\", 1, 2), (\"/\", 1, 3),\n",
    "    (\"4\", 2, 0), (\"5\", 2, 1), (\"6\", 2, 2), (\"*\", 2, 3),\n",
    "    (\"1\", 3, 0), (\"2\", 3, 1), (\"3\", 3, 2), (\"-\", 3, 3),\n",
    "    (\"C\", 4, 0), (\"0\", 4, 1), (\"=\", 4, 2), (\"+\", 4, 3),\n",
    "]\n",
    "\n",
    "for (text, row, col) in buttons:\n",
    "    if text == \"=\":\n",
    "        button = tk.Button(root, text=text, width=10, command=evaluate_expression)\n",
    "    elif text == \"C\":\n",
    "        button = tk.Button(root, text=text, width=10, command=clear_entry)\n",
    "    else:\n",
    "        button = tk.Button(root, text=text, width=10, command=lambda t=text: append_to_entry(t))\n",
    "    button.grid(row=row, column=col)\n",
    "\n",
    "root.mainloop()"
   ]
  }
 ],
 "metadata": {
  "kernelspec": {
   "display_name": "Python 3 (ipykernel)",
   "language": "python",
   "name": "python3"
  },
  "language_info": {
   "codemirror_mode": {
    "name": "ipython",
    "version": 3
   },
   "file_extension": ".py",
   "mimetype": "text/x-python",
   "name": "python",
   "nbconvert_exporter": "python",
   "pygments_lexer": "ipython3",
   "version": "3.12.5"
  }
 },
 "nbformat": 4,
 "nbformat_minor": 5
}
